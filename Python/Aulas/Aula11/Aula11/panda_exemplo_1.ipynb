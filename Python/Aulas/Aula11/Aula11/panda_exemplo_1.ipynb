{
 "cells": [
  {
   "cell_type": "code",
   "execution_count": 12,
   "metadata": {},
   "outputs": [
    {
     "name": "stdout",
     "output_type": "stream",
     "text": [
      "       cargos  salário\n",
      "0  assistente     2500\n",
      "1    auxiliar     1800\n",
      "2     gerente      750\n"
     ]
    }
   ],
   "source": [
    "import pandas as pd\n",
    "\n",
    "dados = {\n",
    "    'cargos': ['assistente', 'auxiliar', 'gerente', 'auxiliar '],\n",
    "    'salário': [2500,1800,750,1900]\n",
    "}\n",
    "\n",
    "df = pd.DataFrame(dados)\n",
    "print(df)\n",
    "\n"
   ]
  },
  {
   "cell_type": "code",
   "execution_count": 14,
   "metadata": {},
   "outputs": [
    {
     "name": "stdout",
     "output_type": "stream",
     "text": [
      "0    assistente\n",
      "1      auxiliar\n",
      "2       gerente\n",
      "Name: cargos, dtype: object\n",
      "0    2500\n",
      "1    1800\n",
      "2     750\n",
      "Name: salário, dtype: int64\n",
      "<class 'pandas.core.series.Series'>\n"
     ]
    }
   ],
   "source": [
    "serie_cargos = pd.Series(df['cargos'])\n",
    "print(serie_cargos)\n",
    "\n",
    "series_salario = pd.Series (df['salário'])\n",
    "print(series_salario)\n",
    "print(type(series_salario))"
   ]
  },
  {
   "cell_type": "code",
   "execution_count": 13,
   "metadata": {},
   "outputs": [
    {
     "name": "stdout",
     "output_type": "stream",
     "text": [
      "       cargos  salário\n",
      "0  assistente     2500\n",
      "1    auxiliar     1800\n",
      "2     gerente      750\n",
      "\n",
      "cargos     auxiliar\n",
      "salário        1800\n",
      "Name: 1, dtype: object\n"
     ]
    }
   ],
   "source": [
    "print(df)\n",
    "print()\n",
    "serie_linha = df.iloc[1]\n",
    "print(serie_linha)"
   ]
  },
  {
   "cell_type": "code",
   "execution_count": 15,
   "metadata": {},
   "outputs": [
    {
     "name": "stdout",
     "output_type": "stream",
     "text": [
      "0    assistente\n",
      "1      auxiliar\n",
      "2       gerente\n",
      "Name: cargos, dtype: object\n"
     ]
    }
   ],
   "source": [
    "serie_colunas =df.loc[:,'cargos']\n",
    "print(serie_colunas)\n"
   ]
  },
  {
   "cell_type": "code",
   "execution_count": 17,
   "metadata": {},
   "outputs": [
    {
     "name": "stdout",
     "output_type": "stream",
     "text": [
      "cargos     gerente\n",
      "salário        750\n",
      "Name: C, dtype: object \n",
      "\n"
     ]
    }
   ],
   "source": [
    "df.index = ['A','B','C']\n",
    "serie_colunas = df.loc['A']\n",
    "print(serie_colunas, '\\n')"
   ]
  },
  {
   "cell_type": "code",
   "execution_count": 18,
   "metadata": {},
   "outputs": [
    {
     "name": "stdout",
     "output_type": "stream",
     "text": [
      "gerente\n",
      "750\n"
     ]
    }
   ],
   "source": [
    "print(df.iloc[2]['cargos'])\n",
    "\n",
    "print(df.iloc[2]['salário'])"
   ]
  },
  {
   "cell_type": "code",
   "execution_count": 19,
   "metadata": {},
   "outputs": [
    {
     "name": "stdout",
     "output_type": "stream",
     "text": [
      "assistente\n",
      "assistente\n",
      "cargos     assistente\n",
      "salário          2500\n",
      "Name: A, dtype: object\n"
     ]
    }
   ],
   "source": [
    "print(serie_cargos.iloc[0])\n",
    "\n",
    "print(serie_cargos[serie_cargos.index[0]])\n",
    "\n",
    "print(df.iloc[0])"
   ]
  },
  {
   "cell_type": "code",
   "execution_count": 23,
   "metadata": {},
   "outputs": [
    {
     "name": "stdout",
     "output_type": "stream",
     "text": [
      "     cargos  salário\n",
      "B  auxiliar     1800\n",
      "B    1800\n",
      "Name: salário, dtype: int64\n"
     ]
    }
   ],
   "source": [
    "# print(df,'\\n')\n",
    "print(df[df['cargos'] =='auxiliar'])\n",
    "salarios = df.loc[df['cargos'] == 'auxiliar', 'salário']\n",
    "print(salarios)"
   ]
  },
  {
   "cell_type": "code",
   "execution_count": null,
   "metadata": {},
   "outputs": [],
   "source": []
  }
 ],
 "metadata": {
  "kernelspec": {
   "display_name": "Python 3",
   "language": "python",
   "name": "python3"
  },
  "language_info": {
   "codemirror_mode": {
    "name": "ipython",
    "version": 3
   },
   "file_extension": ".py",
   "mimetype": "text/x-python",
   "name": "python",
   "nbconvert_exporter": "python",
   "pygments_lexer": "ipython3",
   "version": "3.11.5"
  },
  "orig_nbformat": 4
 },
 "nbformat": 4,
 "nbformat_minor": 2
}
